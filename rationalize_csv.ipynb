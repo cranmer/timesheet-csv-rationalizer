{
 "cells": [
  {
   "cell_type": "markdown",
   "id": "994cac7f",
   "metadata": {},
   "source": [
    "# reformat a timetracking CSV file"
   ]
  },
  {
   "cell_type": "code",
   "execution_count": 117,
   "id": "d6939808",
   "metadata": {},
   "outputs": [
    {
     "name": "stdout",
     "output_type": "stream",
     "text": [
      "time-tracking-2023-04-18_rationalized.csv\n"
     ]
    }
   ],
   "source": [
    "input_filename = 'time-tracking-2023-04-18.csv'\n",
    "output_filename = input_filename[:-4]+'_rationalized.csv'\n",
    "print(output_filename)"
   ]
  },
  {
   "cell_type": "code",
   "execution_count": 118,
   "id": "1524a9d0",
   "metadata": {},
   "outputs": [],
   "source": [
    "inf = open(input_filename)\n",
    "outf = open(output_filename,'w')"
   ]
  },
  {
   "cell_type": "code",
   "execution_count": 119,
   "id": "24af7980",
   "metadata": {},
   "outputs": [],
   "source": [
    "header = inf.readline()\n",
    "new_header = ['Date','email','project code','activity','billable hours','non-billable hours','notes','\\n']\n",
    "delimeter = ','\n",
    "outlines = [delimeter.join(new_header)]\n",
    "\n",
    "for line in inf.readlines():\n",
    "    (date, email) = line.split(',')[0:2]\n",
    "    proj_and_act_list = line.split(',')[2:]\n",
    "\n",
    "    for item in proj_and_act_list:\n",
    "        item = item[1:-1] #remove extra \" at beginning and end \n",
    "\n",
    "        if len(item.split('|')) > 1:\n",
    "            outlines.append(delimeter.join([date,email]+item.split('|'))+'\\n')\n",
    "\n",
    "outf.writelines(outlines,)"
   ]
  },
  {
   "cell_type": "code",
   "execution_count": null,
   "id": "8981fc38",
   "metadata": {},
   "outputs": [],
   "source": []
  }
 ],
 "metadata": {
  "kernelspec": {
   "display_name": "Python 3 (ipykernel)",
   "language": "python",
   "name": "python3"
  },
  "language_info": {
   "codemirror_mode": {
    "name": "ipython",
    "version": 3
   },
   "file_extension": ".py",
   "mimetype": "text/x-python",
   "name": "python",
   "nbconvert_exporter": "python",
   "pygments_lexer": "ipython3",
   "version": "3.9.7"
  }
 },
 "nbformat": 4,
 "nbformat_minor": 5
}
